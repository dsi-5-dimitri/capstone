{
 "cells": [
  {
   "cell_type": "code",
   "execution_count": 1,
   "metadata": {},
   "outputs": [],
   "source": [
    "import pandas as pd\n",
    "import seaborn as sns\n",
    "import sys\n",
    "import os\n",
    "import datetime\n",
    "import praw\n",
    "import warnings\n",
    "warnings.filterwarnings('ignore')"
   ]
  },
  {
   "cell_type": "code",
   "execution_count": 2,
   "metadata": {},
   "outputs": [],
   "source": [
    "reddit = praw.Reddit(client_id = 'pW9m5y-9Uzbo6A',\n",
    "                     client_secret = '1wOBTkIwziKqC3UiCZM-xOuV3b4',\n",
    "                     user_agent = 'my user agent',)"
   ]
  },
  {
   "cell_type": "code",
   "execution_count": 3,
   "metadata": {},
   "outputs": [],
   "source": [
    "sub = ['bitcoincash', 'bitcoin', 'ethereum', 'vechain', 'eos', 'ripple'] \n",
    "csv1, csv2, csv3, csv4, csv5, csv6 = ([] for i in range(6))\n",
    "for i in sub:\n",
    "    csv1.append(i + '_controversial.csv')\n",
    "    csv3.append(i + '_hot.csv')\n",
    "    csv4.append(i + '_new.csv')\n",
    "    csv6.append(i + '_top.csv')"
   ]
  },
  {
   "cell_type": "code",
   "execution_count": 4,
   "metadata": {},
   "outputs": [],
   "source": [
    "csvx = csv1 + csv3 + csv4 + csv5 + csv6\n",
    "loc, com = ([] for i in range(2))\n",
    "for i in csvx:\n",
    "    com.append(i[:-4] + '_num.csv')\n",
    "    loc.append('./data/' + i)"
   ]
  },
  {
   "cell_type": "code",
   "execution_count": 5,
   "metadata": {},
   "outputs": [],
   "source": [
    "def get_title(date, submission):\n",
    "    title.append(submission.title)  \n",
    "    score.append(submission.score)  \n",
    "    ids.append(submission.id)\n",
    "    url.append(submission.url)\n",
    "    num_comments.append(submission.num_comments)\n",
    "    time = submission.created\n",
    "    date.append(datetime.datetime.fromtimestamp(time).strftime(\"%y-%m-%d-%H-%M\"))\n",
    "    try:\n",
    "        link_karma.append(submission.author.link_karma)\n",
    "        name.append(submission.author.name)\n",
    "    except:\n",
    "        link_karma.append(0)\n",
    "        name.append('[deleted]')"
   ]
  },
  {
   "cell_type": "code",
   "execution_count": null,
   "metadata": {},
   "outputs": [],
   "source": [
    "ix1, ix2 = (0 for i in range(2))\n",
    "for i in sub[0]:\n",
    "    if ix1 > 0:\n",
    "        print('\\n')\n",
    "        ix2 += 0\n",
    "    else:\n",
    "        pass\n",
    "    subreddit = reddit.subreddit(i)\n",
    "    title, date, score, ids, name, link_karma, num_comments, url = ([] for j in range(8))    \n",
    "    for submission in subreddit.controversial(limit = None):        \n",
    "        get_title(date, submission)\n",
    "        ix2 += 1\n",
    "        sys.stdout.write(f'\\rscraping...{i}, thread: {ix2}, title: {submission.title}')     \n",
    "    df = pd.DataFrame({'title' : title, 'date' : date, 'score' : score, 'ids' : ids, 'link_karma' : link_karma, 'name' : name, 'url' : url, 'num_comments' : num_comments})\n",
    "    df.to_csv(csv1[ix1], columns=df.columns)\n",
    "    print(f'\\nsaving file as: {csv1[ix1]}\\n')\n",
    "    ix2 = 0\n",
    "    title, date, score, ids, name, link_karma, num_comments, url = ([] for j in range(8))    \n",
    "    for submission in subreddit.hot(limit = None):        \n",
    "        get_title(date, submission)\n",
    "        ix2 += 1\n",
    "        sys.stdout.write(f'\\rscraping...{i}, thread: {ix2}, title: {submission.title}')        \n",
    "    df = pd.DataFrame({'title' : title, 'date' : date, 'score' : score, 'ids' : ids, 'link_karma' : link_karma, 'name' : name, 'url' : url, 'num_comments' : num_comments})\n",
    "    df.to_csv(csv3[ix1], columns=df.columns)\n",
    "    print(f'\\nsaving file as: {csv3[ix1]}\\n')\n",
    "    ix2 = 0\n",
    "    title, date, score, ids, name, link_karma, num_comments, url = ([] for j in range(8))    \n",
    "    for submission in subreddit.new(limit = None):        \n",
    "        get_title(date, submission)\n",
    "        ix2 += 1\n",
    "        sys.stdout.write(f'\\rscraping...{i}, thread: {ix2}, title: {submission.title}')        \n",
    "    df = pd.DataFrame({'title' : title, 'date' : date, 'score' : score, 'ids' : ids, 'link_karma' : link_karma, 'name' : name, 'url' : url, 'num_comments' : num_comments})\n",
    "    df.to_csv(csv4[ix1], columns=df.columns)\n",
    "    print(f'\\nsaving file as: {csv4[ix1]}\\n')\n",
    "    ix2 = 0\n",
    "    title, date, score, ids, name, link_karma, num_comments, url = ([] for j in range(8))    \n",
    "    for submission in subreddit.rising(limit = None):        \n",
    "        get_title(date, submission)\n",
    "        ix2 += 1\n",
    "        sys.stdout.write(f'\\rscraping...{i}, thread: {ix2}, title: {submission.title}')     \n",
    "    df = pd.DataFrame({'title' : title, 'date' : date, 'score' : score, 'ids' : ids, 'link_karma' : link_karma, 'name' : name, 'url' : url, 'num_comments' : num_comments})\n",
    "    df.to_csv(csv5[ix1], columns=df.columns)\n",
    "    print(f'\\nsaving file as: {csv5[ix1]}\\n')\n",
    "    ix2 = 0\n",
    "    title, date, score, ids, name, link_karma, num_comments, url = ([] for j in range(8))    \n",
    "    for submission in subreddit.top(limit = None):        \n",
    "        get_title(date, submission)\n",
    "        ix2 += 1\n",
    "        sys.stdout.write(f'\\rscraping...{i}, thread: {ix2}, title: {submission.title}')    \n",
    "    df = pd.DataFrame({'title' : title, 'date' : date, 'score' : score, 'ids' : ids, 'link_karma' : link_karma, 'name' : name, 'url' : url, 'num_comments' : num_comments})\n",
    "    df.to_csv(csv6[ix1], columns=df.columns)\n",
    "    print(f'\\nsaving file as: {csv6[ix1]}\\n')\n",
    "    ix1 += 1"
   ]
  },
  {
   "cell_type": "code",
   "execution_count": 11,
   "metadata": {},
   "outputs": [],
   "source": [
    "# for i, j in zip(com[0:23], com[1:24]):\n",
    "#     df = pd.read_csv(f'./wsreddit/{i}', index_col = 0)\n",
    "#     df.to_csv(f'./s1/{j.lower()}', columns = df.columns)"
   ]
  },
  {
   "cell_type": "code",
   "execution_count": null,
   "metadata": {},
   "outputs": [],
   "source": [
    "ix1, ix2, ix3 = (0 for i in range(3))\n",
    "# for i in loc[0]:\n",
    "for i in loc[1:]:\n",
    "    numx, karmax, score, link_karma, name, date, idsx, comments = ([] for j in range(8))\n",
    "    x = pd.read_csv(i, index_col = 0)\n",
    "    for j, k, l, m in zip(x.date, x.ids, x.num_comments, x.link_karma):\n",
    "        submission = reddit.submission(id = k)\n",
    "        submission.comments.replace_more(limit = 0)\n",
    "#             submission.comments.replace_more(limit = None)\n",
    "        for i in submission.list():\n",
    "            ix2 += 1\n",
    "            comments.append(i.body)\n",
    "            score.append(i.score)\n",
    "            time = submission.created\n",
    "            date.append(datetime.datetime.fromtimestamp(time).strftime(\"%y-%m-%d-%H-%M\"))\n",
    "            idsx.append(k)\n",
    "            numx.append(l)\n",
    "            karmax.append(m)\n",
    "\n",
    "            try:\n",
    "                link_karma.append(comment.author.link_karma)\n",
    "                name.append(comment.author.name)\n",
    "            except:\n",
    "                link_karma.append(0)\n",
    "                name.append('[deleted]')\n",
    "        ix3 += 1\n",
    "        sys.stdout.write(f'\\rix2: {ix2} ix3: {ix3} date: {j}')\n",
    "        df = pd.DataFrame({'ids' : idsx, 'num_comments' : numx, 'link_karma' : karmax})\n",
    "#     df = pd.DataFrame({com[ix1] : comments, 'date': date, 'score' : score, 'link_karma' : link_karma, 'name' : name, 'ids' : idsx})\n",
    "    df.to_csv(com[ix1], columns = df)\n",
    "    print(f'\\nsaving file as: {com[ix1]}\\n')\n",
    "    ix1 += 1"
   ]
  }
 ],
 "metadata": {
  "kernelspec": {
   "display_name": "Python 3",
   "language": "python",
   "name": "python3"
  },
  "language_info": {
   "codemirror_mode": {
    "name": "ipython",
    "version": 3
   },
   "file_extension": ".py",
   "mimetype": "text/x-python",
   "name": "python",
   "nbconvert_exporter": "python",
   "pygments_lexer": "ipython3",
   "version": "3.7.0"
  }
 },
 "nbformat": 4,
 "nbformat_minor": 2
}
